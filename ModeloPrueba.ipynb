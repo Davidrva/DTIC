{
 "cells": [
  {
   "cell_type": "code",
   "execution_count": 4,
   "id": "609196d3-b19e-4ad9-af0c-79c0ce5a9511",
   "metadata": {},
   "outputs": [
    {
     "name": "stdout",
     "output_type": "stream",
     "text": [
      "El cuadrado de 10 es 100\n",
      "El cuadrado de 2 es 4\n",
      "El cuadrado de 15 es 225\n",
      "El cuadrado de 4 es 16\n",
      "El cuadrado de 5 es 25\n"
     ]
    }
   ],
   "source": [
    "# Definir una función que calcule el cuadrado de un número\n",
    "def calcular_cuadrado(numero):\n",
    "    return numero ** 2\n",
    "\n",
    "# Crear una lista de números\n",
    "numeros = [10, 2, 15, 4, 5]\n",
    "\n",
    "# Usar un bucle para recorrer la lista e imprimir el cuadrado de cada número\n",
    "for numero in numeros:\n",
    "    cuadrado = calcular_cuadrado(numero)\n",
    "    print(f\"El cuadrado de {numero} es {cuadrado}\")\n"
   ]
  },
  {
   "cell_type": "code",
   "execution_count": null,
   "id": "4f71b939-c3ec-4c0b-b660-277a79c58c91",
   "metadata": {},
   "outputs": [],
   "source": []
  }
 ],
 "metadata": {
  "kernelspec": {
   "display_name": "Python 3.9 (envARivera)",
   "language": "python",
   "name": "envarivera"
  },
  "language_info": {
   "codemirror_mode": {
    "name": "ipython",
    "version": 3
   },
   "file_extension": ".py",
   "mimetype": "text/x-python",
   "name": "python",
   "nbconvert_exporter": "python",
   "pygments_lexer": "ipython3",
   "version": "3.9.19"
  }
 },
 "nbformat": 4,
 "nbformat_minor": 5
}
