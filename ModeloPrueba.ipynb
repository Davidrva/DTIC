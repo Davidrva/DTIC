{
 "cells": [
  {
   "cell_type": "code",
   "execution_count": null,
   "id": "609196d3-b19e-4ad9-af0c-79c0ce5a9511",
   "metadata": {},
   "outputs": [],
   "source": [
    "# Importar las bibliotecas necesarias\n",
    "import pandas as pd\n",
    "import numpy as np\n",
    "import matplotlib.pyplot as plt\n",
    "from sklearn.datasets import load_boston\n",
    "from sklearn.model_selection import train_test_split\n",
    "from sklearn.linear_model import LinearRegression\n",
    "from sklearn.metrics import mean_squared_error\n",
    "\n",
    "# Cargar el conjunto de datos de Boston Housing\n",
    "boston = load_boston()\n",
    "data = pd.DataFrame(boston.data, columns=boston.feature_names)\n",
    "data['PRICE'] = boston.target\n",
    "\n",
    "# Seleccionar características y la variable objetivo\n",
    "X = data[['RM']]  # Usaremos solo la característica 'RM' (número de habitaciones)\n",
    "y = data['PRICE']\n",
    "\n",
    "# Dividir los datos en conjuntos de entrenamiento y prueba\n",
    "X_train, X_test, y_train, y_test = train_test_split(X, y, test_size=0.2, random_state=42)\n",
    "\n",
    "# Entrenar el modelo de regresión lineal\n",
    "model = LinearRegression()\n",
    "model.fit(X_train, y_train)\n",
    "\n",
    "# Realizar predicciones\n",
    "y_train_pred = model.predict(X_train)\n",
    "y_test_pred = model.predict(X_test)\n",
    "\n",
    "# Calcular el error cuadrático medio\n",
    "train_mse = mean_squared_error(y_train, y_train_pred)\n",
    "test_mse = mean_squared_error(y_test, y_test_pred)\n",
    "\n",
    "# Imprimir los resultados\n",
    "print(f'Error cuadrático medio en el conjunto de entrenamiento: {train_mse}')\n",
    "print(f'Error cuadrático medio en el conjunto de prueba: {test_mse}')\n",
    "\n",
    "# Gráfico de dispersión de los datos de entrenamiento y la línea de regresión\n",
    "plt.figure(figsize=(10, 6))\n",
    "plt.scatter(X_train, y_train, color='blue', label='Datos de entrenamiento')\n",
    "plt.scatter(X_test, y_test, color='green', label='Datos de prueba')\n",
    "plt.plot(X_train, y_train_pred, color='red', linewidth=2, label='Línea de regresión')\n",
    "plt.xlabel('Número de habitaciones (RM)')\n",
    "plt.ylabel('Precio de la casa (PRICE)')\n",
    "plt.title('Regresión lineal en el conjunto de datos de Boston Housing')\n",
    "plt.legend()\n",
    "plt.show()\n"
   ]
  },
  {
   "cell_type": "code",
   "execution_count": null,
   "id": "4f71b939-c3ec-4c0b-b660-277a79c58c91",
   "metadata": {},
   "outputs": [],
   "source": []
  }
 ],
 "metadata": {
  "kernelspec": {
   "display_name": "Python 3.9 (envname)",
   "language": "python",
   "name": "envname"
  },
  "language_info": {
   "codemirror_mode": {
    "name": "ipython",
    "version": 3
   },
   "file_extension": ".py",
   "mimetype": "text/x-python",
   "name": "python",
   "nbconvert_exporter": "python",
   "pygments_lexer": "ipython3",
   "version": "3.9.19"
  }
 },
 "nbformat": 4,
 "nbformat_minor": 5
}
