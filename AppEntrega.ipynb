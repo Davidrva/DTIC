{
 "cells": [
  {
   "cell_type": "code",
   "execution_count": 3,
   "id": "af301f35-0e7f-4b26-89e0-05e47a6cb9b7",
   "metadata": {},
   "outputs": [
    {
     "name": "stdout",
     "output_type": "stream",
     "text": [
      "Cargando el modelo desde models:/Tiempo/14...\n",
      "Modelo cargado exitosamente.\n",
      " * Serving Flask app '__main__'\n",
      " * Debug mode: on\n"
     ]
    },
    {
     "name": "stderr",
     "output_type": "stream",
     "text": [
      "WARNING: This is a development server. Do not use it in a production deployment. Use a production WSGI server instead.\n",
      " * Running on http://127.0.0.1:5001\n",
      "Press CTRL+C to quit\n",
      "127.0.0.1 - - [29/Jan/2025 00:44:24] \"OPTIONS /predict HTTP/1.1\" 200 -\n",
      "127.0.0.1 - - [29/Jan/2025 00:44:25] \"POST /predict HTTP/1.1\" 200 -\n"
     ]
    },
    {
     "name": "stdout",
     "output_type": "stream",
     "text": [
      "Datos recibidos para predicción:    distancia_km  numero_articulos  velocidad_kmh\n",
      "0             5                 1             30\n",
      "1            10                 3             40\n",
      "Columnas de los datos recibidos: ['distancia_km', 'numero_articulos', 'velocidad_kmh']\n"
     ]
    },
    {
     "name": "stderr",
     "output_type": "stream",
     "text": [
      "127.0.0.1 - - [29/Jan/2025 00:48:15] \"OPTIONS /predict HTTP/1.1\" 200 -\n",
      "127.0.0.1 - - [29/Jan/2025 00:48:15] \"POST /predict HTTP/1.1\" 200 -\n"
     ]
    },
    {
     "name": "stdout",
     "output_type": "stream",
     "text": [
      "Datos recibidos para predicción:    distancia_km  numero_articulos  velocidad_kmh\n",
      "0            10                 1             30\n",
      "1            10                 3             40\n",
      "Columnas de los datos recibidos: ['distancia_km', 'numero_articulos', 'velocidad_kmh']\n"
     ]
    },
    {
     "name": "stderr",
     "output_type": "stream",
     "text": [
      "127.0.0.1 - - [29/Jan/2025 00:48:21] \"OPTIONS /predict HTTP/1.1\" 200 -\n",
      "127.0.0.1 - - [29/Jan/2025 00:48:21] \"POST /predict HTTP/1.1\" 200 -\n"
     ]
    },
    {
     "name": "stdout",
     "output_type": "stream",
     "text": [
      "Datos recibidos para predicción:    distancia_km  numero_articulos  velocidad_kmh\n",
      "0            10               100             30\n",
      "1            10                 3             40\n",
      "Columnas de los datos recibidos: ['distancia_km', 'numero_articulos', 'velocidad_kmh']\n"
     ]
    },
    {
     "name": "stderr",
     "output_type": "stream",
     "text": [
      "127.0.0.1 - - [29/Jan/2025 00:56:37] \"OPTIONS /predict HTTP/1.1\" 200 -\n",
      "127.0.0.1 - - [29/Jan/2025 00:56:38] \"POST /predict HTTP/1.1\" 200 -\n"
     ]
    },
    {
     "name": "stdout",
     "output_type": "stream",
     "text": [
      "Datos recibidos para predicción:    distancia_km  numero_articulos  velocidad_kmh\n",
      "0           113                 2             97\n",
      "1            10                 3             40\n",
      "Columnas de los datos recibidos: ['distancia_km', 'numero_articulos', 'velocidad_kmh']\n"
     ]
    },
    {
     "name": "stderr",
     "output_type": "stream",
     "text": [
      "127.0.0.1 - - [29/Jan/2025 00:56:38] \"OPTIONS /predict HTTP/1.1\" 200 -\n",
      "127.0.0.1 - - [29/Jan/2025 00:56:38] \"POST /predict HTTP/1.1\" 200 -\n"
     ]
    },
    {
     "name": "stdout",
     "output_type": "stream",
     "text": [
      "Datos recibidos para predicción:    distancia_km  numero_articulos  velocidad_kmh\n",
      "0           113                 2             97\n",
      "1            10                 3             40\n",
      "Columnas de los datos recibidos: ['distancia_km', 'numero_articulos', 'velocidad_kmh']\n"
     ]
    },
    {
     "name": "stderr",
     "output_type": "stream",
     "text": [
      "127.0.0.1 - - [29/Jan/2025 00:56:40] \"OPTIONS /predict HTTP/1.1\" 200 -\n",
      "127.0.0.1 - - [29/Jan/2025 00:56:40] \"POST /predict HTTP/1.1\" 200 -\n"
     ]
    },
    {
     "name": "stdout",
     "output_type": "stream",
     "text": [
      "Datos recibidos para predicción:    distancia_km  numero_articulos  velocidad_kmh\n",
      "0           113                 2             97\n",
      "1            10                 3             40\n",
      "Columnas de los datos recibidos: ['distancia_km', 'numero_articulos', 'velocidad_kmh']\n"
     ]
    },
    {
     "name": "stderr",
     "output_type": "stream",
     "text": [
      "127.0.0.1 - - [29/Jan/2025 00:56:45] \"OPTIONS /predict HTTP/1.1\" 200 -\n",
      "127.0.0.1 - - [29/Jan/2025 00:56:45] \"POST /predict HTTP/1.1\" 200 -\n"
     ]
    },
    {
     "name": "stdout",
     "output_type": "stream",
     "text": [
      "Datos recibidos para predicción:    distancia_km  numero_articulos  velocidad_kmh\n",
      "0           113                 2             97\n",
      "1            10                 3             40\n",
      "Columnas de los datos recibidos: ['distancia_km', 'numero_articulos', 'velocidad_kmh']\n"
     ]
    },
    {
     "name": "stderr",
     "output_type": "stream",
     "text": [
      "127.0.0.1 - - [29/Jan/2025 00:57:47] \"OPTIONS /predict HTTP/1.1\" 200 -\n",
      "127.0.0.1 - - [29/Jan/2025 00:57:47] \"POST /predict HTTP/1.1\" 200 -\n"
     ]
    },
    {
     "name": "stdout",
     "output_type": "stream",
     "text": [
      "Datos recibidos para predicción:    distancia_km  numero_articulos  velocidad_kmh\n",
      "0           113                 2             80\n",
      "1            10                 3             40\n",
      "Columnas de los datos recibidos: ['distancia_km', 'numero_articulos', 'velocidad_kmh']\n"
     ]
    },
    {
     "name": "stderr",
     "output_type": "stream",
     "text": [
      "127.0.0.1 - - [29/Jan/2025 00:57:55] \"OPTIONS /predict HTTP/1.1\" 200 -\n",
      "127.0.0.1 - - [29/Jan/2025 00:57:55] \"POST /predict HTTP/1.1\" 200 -\n"
     ]
    },
    {
     "name": "stdout",
     "output_type": "stream",
     "text": [
      "Datos recibidos para predicción:    distancia_km  numero_articulos  velocidad_kmh\n",
      "0           113                10             80\n",
      "1            10                 3             40\n",
      "Columnas de los datos recibidos: ['distancia_km', 'numero_articulos', 'velocidad_kmh']\n"
     ]
    },
    {
     "name": "stderr",
     "output_type": "stream",
     "text": [
      "127.0.0.1 - - [29/Jan/2025 00:58:02] \"OPTIONS /predict HTTP/1.1\" 200 -\n",
      "127.0.0.1 - - [29/Jan/2025 00:58:02] \"POST /predict HTTP/1.1\" 200 -\n"
     ]
    },
    {
     "name": "stdout",
     "output_type": "stream",
     "text": [
      "Datos recibidos para predicción:    distancia_km  numero_articulos  velocidad_kmh\n",
      "0           113                 1             80\n",
      "1            10                 3             40\n",
      "Columnas de los datos recibidos: ['distancia_km', 'numero_articulos', 'velocidad_kmh']\n"
     ]
    },
    {
     "name": "stderr",
     "output_type": "stream",
     "text": [
      "127.0.0.1 - - [29/Jan/2025 00:58:10] \"OPTIONS /predict HTTP/1.1\" 200 -\n",
      "127.0.0.1 - - [29/Jan/2025 00:58:10] \"POST /predict HTTP/1.1\" 200 -\n"
     ]
    },
    {
     "name": "stdout",
     "output_type": "stream",
     "text": [
      "Datos recibidos para predicción:    distancia_km  numero_articulos  velocidad_kmh\n",
      "0           113                 1             97\n",
      "1            10                 3             40\n",
      "Columnas de los datos recibidos: ['distancia_km', 'numero_articulos', 'velocidad_kmh']\n"
     ]
    },
    {
     "name": "stderr",
     "output_type": "stream",
     "text": [
      "127.0.0.1 - - [29/Jan/2025 00:59:22] \"OPTIONS /predict HTTP/1.1\" 200 -\n",
      "127.0.0.1 - - [29/Jan/2025 00:59:22] \"POST /predict HTTP/1.1\" 200 -\n"
     ]
    },
    {
     "name": "stdout",
     "output_type": "stream",
     "text": [
      "Datos recibidos para predicción:    distancia_km  numero_articulos  velocidad_kmh\n",
      "0             1                 1            9.7\n",
      "1            10                 3           40.0\n",
      "Columnas de los datos recibidos: ['distancia_km', 'numero_articulos', 'velocidad_kmh']\n"
     ]
    },
    {
     "name": "stderr",
     "output_type": "stream",
     "text": [
      "127.0.0.1 - - [29/Jan/2025 01:00:41] \"OPTIONS /predict HTTP/1.1\" 200 -\n"
     ]
    },
    {
     "name": "stdout",
     "output_type": "stream",
     "text": [
      "Datos recibidos para predicción:    distancia_km  numero_articulos  velocidad_kmh\n",
      "0             5                 1             30\n",
      "1            10                 3             40\n",
      "Columnas de los datos recibidos: ['distancia_km', 'numero_articulos', 'velocidad_kmh']\n"
     ]
    },
    {
     "name": "stderr",
     "output_type": "stream",
     "text": [
      "127.0.0.1 - - [29/Jan/2025 01:00:42] \"POST /predict HTTP/1.1\" 200 -\n",
      "127.0.0.1 - - [29/Jan/2025 01:01:46] \"OPTIONS /predict HTTP/1.1\" 200 -\n",
      "127.0.0.1 - - [29/Jan/2025 01:01:46] \"POST /predict HTTP/1.1\" 200 -\n"
     ]
    },
    {
     "name": "stdout",
     "output_type": "stream",
     "text": [
      "Datos recibidos para predicción:    distancia_km  numero_articulos  velocidad_kmh\n",
      "0             5                 1             30\n",
      "1            10                 3             40\n",
      "2            15                 5             35\n",
      "3            20                 2             25\n",
      "Columnas de los datos recibidos: ['distancia_km', 'numero_articulos', 'velocidad_kmh']\n"
     ]
    },
    {
     "name": "stderr",
     "output_type": "stream",
     "text": [
      "127.0.0.1 - - [29/Jan/2025 01:02:54] \"OPTIONS /predict HTTP/1.1\" 200 -\n",
      "127.0.0.1 - - [29/Jan/2025 01:02:54] \"POST /predict HTTP/1.1\" 200 -\n"
     ]
    },
    {
     "name": "stdout",
     "output_type": "stream",
     "text": [
      "Datos recibidos para predicción:    distancia_km  numero_articulos  velocidad_kmh\n",
      "0             5                 1             30\n",
      "1            10                 3             40\n",
      "2            15                 5             35\n",
      "3            20                 2             25\n",
      "Columnas de los datos recibidos: ['distancia_km', 'numero_articulos', 'velocidad_kmh']\n"
     ]
    },
    {
     "name": "stderr",
     "output_type": "stream",
     "text": [
      "127.0.0.1 - - [29/Jan/2025 01:02:55] \"OPTIONS /predict HTTP/1.1\" 200 -\n",
      "127.0.0.1 - - [29/Jan/2025 01:02:55] \"POST /predict HTTP/1.1\" 200 -\n"
     ]
    },
    {
     "name": "stdout",
     "output_type": "stream",
     "text": [
      "Datos recibidos para predicción:    distancia_km  numero_articulos  velocidad_kmh\n",
      "0             5                 1             30\n",
      "1            10                 3             40\n",
      "2            15                 5             35\n",
      "3            20                 2             25\n",
      "Columnas de los datos recibidos: ['distancia_km', 'numero_articulos', 'velocidad_kmh']\n"
     ]
    }
   ],
   "source": [
    "from flask import Flask, request, jsonify\n",
    "from flask_cors import CORS\n",
    "import mlflow\n",
    "import mlflow.sklearn\n",
    "import pandas as pd\n",
    "from sklearn.preprocessing import StandardScaler\n",
    "\n",
    "# Configuración del servidor Flask\n",
    "app = Flask(__name__)\n",
    "\n",
    "# Habilitar CORS\n",
    "CORS(app)\n",
    "\n",
    "# Configura el URI del servidor MLflow\n",
    "mlflow.set_tracking_uri(\"http://127.0.0.1:5000\")  # Cambia según tu servidor MLflow\n",
    "model_name = \"Tiempo\"  # Nombre del modelo registrado\n",
    "model_version = \"14\"  # Versión del modelo en MLflow\n",
    "\n",
    "# Cargar el modelo desde el registro de MLflow\n",
    "try:\n",
    "    model_uri = f\"models:/{model_name}/{model_version}\"\n",
    "    print(f\"Cargando el modelo desde {model_uri}...\")\n",
    "    model = mlflow.sklearn.load_model(model_uri)\n",
    "    print(\"Modelo cargado exitosamente.\")\n",
    "\n",
    "    # Inicializar StandardScaler con los datos de entrenamiento (simulación)\n",
    "    sample_data = pd.DataFrame({\n",
    "        \"distancia_km\": [5, 10, 15, 20, 25],\n",
    "        \"numero_articulos\": [1, 3, 5, 2, 4],\n",
    "        \"velocidad_kmh\": [30, 40, 35, 25, 45]\n",
    "    })\n",
    "    scaler = StandardScaler()\n",
    "    scaler.fit(sample_data)  # Ajustar el escalador con datos de entrenamiento\n",
    "\n",
    "except Exception as e:\n",
    "    print(f\"Error al cargar el modelo: {e}\")\n",
    "    model = None\n",
    "\n",
    "@app.route(\"/\", methods=[\"GET\"])\n",
    "def home():\n",
    "    return jsonify({\"message\": \"API para estimar tiempo de entrega funcionando correctamente.\"})\n",
    "\n",
    "@app.route('/predict', methods=['POST'])\n",
    "def predict():\n",
    "    try:\n",
    "        if model is None:\n",
    "            return jsonify({'error': 'Modelo no cargado.'}), 500\n",
    "\n",
    "        # Obtener datos en formato JSON\n",
    "        data = request.get_json()\n",
    "\n",
    "        # Validar formato\n",
    "        if not data or not isinstance(data, list):\n",
    "            return jsonify({'error': 'Se esperaba una lista de instancias JSON.'}), 400\n",
    "\n",
    "        # Crear DataFrame con los datos recibidos\n",
    "        input_data = pd.DataFrame(data)\n",
    "\n",
    "        # Validar que las columnas requeridas estén presentes\n",
    "        required_columns = [\"distancia_km\", \"numero_articulos\", \"velocidad_kmh\"]\n",
    "        if not all(col in input_data.columns for col in required_columns):\n",
    "            return jsonify({'error': f'Faltan columnas requeridas: {required_columns}'}), 400\n",
    "\n",
    "        # Imprimir los datos recibidos para depuración\n",
    "        print(\"Datos recibidos para predicción:\", input_data)\n",
    "        print(\"Columnas de los datos recibidos:\", input_data.columns.tolist())\n",
    "\n",
    "        # Preprocesar los datos (escalado) manteniendo los nombres de las columnas\n",
    "        input_scaled = pd.DataFrame(scaler.transform(input_data), columns=input_data.columns)\n",
    "\n",
    "        # Realizar predicciones\n",
    "        predictions = model.predict(input_scaled)\n",
    "\n",
    "        return jsonify({'predictions': predictions.tolist()})\n",
    "    except Exception as e:\n",
    "        return jsonify({'error': str(e)}), 500\n",
    "\n",
    "if __name__ == '__main__':\n",
    "    app.run(host='127.0.0.1', port=5001, debug=True, use_reloader=False)\n"
   ]
  },
  {
   "cell_type": "code",
   "execution_count": null,
   "id": "45ee3b05-9e97-449a-90be-e6cebe05a7b3",
   "metadata": {},
   "outputs": [],
   "source": []
  }
 ],
 "metadata": {
  "kernelspec": {
   "display_name": "Python (mlops_env)",
   "language": "python",
   "name": "mlops_env"
  },
  "language_info": {
   "codemirror_mode": {
    "name": "ipython",
    "version": 3
   },
   "file_extension": ".py",
   "mimetype": "text/x-python",
   "name": "python",
   "nbconvert_exporter": "python",
   "pygments_lexer": "ipython3",
   "version": "3.9.21"
  }
 },
 "nbformat": 4,
 "nbformat_minor": 5
}
