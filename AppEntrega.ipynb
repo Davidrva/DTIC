{
 "cells": [
  {
   "cell_type": "code",
   "execution_count": 12,
   "id": "d3b3bdcf-2d70-4350-a599-c5be93dc7f66",
   "metadata": {},
   "outputs": [
    {
     "name": "stdout",
     "output_type": "stream",
     "text": [
      "Cargando el modelo desde models:/Tiempo/14...\n",
      "Modelo cargado exitosamente.\n",
      " * Serving Flask app '__main__'\n",
      " * Debug mode: on\n"
     ]
    },
    {
     "name": "stderr",
     "output_type": "stream",
     "text": [
      "WARNING: This is a development server. Do not use it in a production deployment. Use a production WSGI server instead.\n",
      " * Running on http://127.0.0.1:5001\n",
      "Press CTRL+C to quit\n",
      "127.0.0.1 - - [20/Jan/2025 22:32:17] \"OPTIONS /predict HTTP/1.1\" 200 -\n",
      "127.0.0.1 - - [20/Jan/2025 22:32:17] \"POST /predict HTTP/1.1\" 400 -\n",
      "127.0.0.1 - - [20/Jan/2025 22:37:00] \"OPTIONS /predict HTTP/1.1\" 200 -\n",
      "C:\\Users\\dgldr\\anaconda3\\envs\\envname\\lib\\site-packages\\sklearn\\utils\\validation.py:2739: UserWarning: X does not have valid feature names, but LinearRegression was fitted with feature names\n",
      "  warnings.warn(\n",
      "127.0.0.1 - - [20/Jan/2025 22:37:00] \"POST /predict HTTP/1.1\" 200 -\n",
      "127.0.0.1 - - [20/Jan/2025 22:39:11] \"OPTIONS /predict HTTP/1.1\" 200 -\n",
      "C:\\Users\\dgldr\\anaconda3\\envs\\envname\\lib\\site-packages\\sklearn\\utils\\validation.py:2739: UserWarning: X does not have valid feature names, but LinearRegression was fitted with feature names\n",
      "  warnings.warn(\n",
      "127.0.0.1 - - [20/Jan/2025 22:39:11] \"POST /predict HTTP/1.1\" 200 -\n"
     ]
    }
   ],
   "source": [
    "from flask import Flask, request, jsonify\n",
    "from flask_cors import CORS\n",
    "import mlflow\n",
    "import mlflow.sklearn\n",
    "import pandas as pd\n",
    "from sklearn.preprocessing import StandardScaler\n",
    "\n",
    "# Configuración del servidor Flask\n",
    "app = Flask(__name__)\n",
    "\n",
    "# Habilitar CORS\n",
    "CORS(app)\n",
    "\n",
    "# Configura el URI del servidor MLflow\n",
    "mlflow.set_tracking_uri(\"http://127.0.0.1:5000\")  # Cambia según tu servidor MLflow\n",
    "model_name = \"Tiempo\"  # Nombre del modelo registrado\n",
    "model_version = \"14\"  # Versión del modelo en MLflow\n",
    "\n",
    "# Cargar el modelo desde el registro de MLflow\n",
    "try:\n",
    "    model_uri = f\"models:/{model_name}/{model_version}\"\n",
    "    print(f\"Cargando el modelo desde {model_uri}...\")\n",
    "    model = mlflow.sklearn.load_model(model_uri)\n",
    "    print(\"Modelo cargado exitosamente.\")\n",
    "    scaler = StandardScaler()\n",
    "except Exception as e:\n",
    "    print(f\"Error al cargar el modelo: {e}\")\n",
    "    model = None\n",
    "\n",
    "@app.route(\"/\", methods=[\"GET\"])\n",
    "def home():\n",
    "    return jsonify({\"message\": \"API para estimar tiempo de entrega funcionando correctamente.\"})\n",
    "\n",
    "@app.route('/predict', methods=['POST'])\n",
    "def predict():\n",
    "    try:\n",
    "        if model is None:\n",
    "            return jsonify({'error': 'Modelo no cargado.'}), 500\n",
    "\n",
    "        # Obtener datos en formato JSON\n",
    "        data = request.get_json()\n",
    "\n",
    "        # Validar formato\n",
    "        if not data or not isinstance(data, list):\n",
    "            return jsonify({'error': 'Se esperaba una lista de instancias JSON.'}), 400\n",
    "\n",
    "        # Crear DataFrame con los datos recibidos\n",
    "        input_data = pd.DataFrame(data)\n",
    "\n",
    "        # Validar que las columnas requeridas estén presentes\n",
    "        required_columns = [\"distancia_km\", \"numero_articulos\", \"velocidad_kmh\"]\n",
    "        if not all(col in input_data.columns for col in required_columns):\n",
    "            return jsonify({'error': f'Faltan columnas requeridas: {required_columns}'}), 400\n",
    "\n",
    "        # Preprocesar los datos (escalado)\n",
    "        input_scaled = scaler.fit_transform(input_data)\n",
    "\n",
    "        # Realizar predicciones\n",
    "        predictions = model.predict(input_scaled)\n",
    "\n",
    "        return jsonify({'predictions': predictions.tolist()})\n",
    "    except Exception as e:\n",
    "        return jsonify({'error': str(e)}), 500\n",
    "\n",
    "if __name__ == '__main__':\n",
    "    app.run(host='127.0.0.1', port=5001, debug=True, use_reloader=False)\n"
   ]
  },
  {
   "cell_type": "code",
   "execution_count": null,
   "id": "af301f35-0e7f-4b26-89e0-05e47a6cb9b7",
   "metadata": {},
   "outputs": [],
   "source": []
  },
  {
   "cell_type": "code",
   "execution_count": null,
   "id": "45ee3b05-9e97-449a-90be-e6cebe05a7b3",
   "metadata": {},
   "outputs": [],
   "source": []
  }
 ],
 "metadata": {
  "kernelspec": {
   "display_name": "Python 3.9 (envname)",
   "language": "python",
   "name": "envname"
  },
  "language_info": {
   "codemirror_mode": {
    "name": "ipython",
    "version": 3
   },
   "file_extension": ".py",
   "mimetype": "text/x-python",
   "name": "python",
   "nbconvert_exporter": "python",
   "pygments_lexer": "ipython3",
   "version": "3.9.19"
  }
 },
 "nbformat": 4,
 "nbformat_minor": 5
}
