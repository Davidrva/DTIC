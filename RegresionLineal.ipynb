{
 "cells": [
  {
   "cell_type": "code",
   "execution_count": 4,
   "id": "4c9dd582-e339-4d86-b2f5-9f65a50c3b84",
   "metadata": {},
   "outputs": [
    {
     "name": "stderr",
     "output_type": "stream",
     "text": [
      "Registered model 'Diabetes' already exists. Creating a new version of this model...\n",
      "2025/01/20 10:52:50 INFO mlflow.store.model_registry.abstract_store: Waiting up to 300 seconds for model version to finish creation. Model name: Diabetes, version 18\n",
      "Created version '18' of model 'Diabetes'.\n"
     ]
    },
    {
     "name": "stdout",
     "output_type": "stream",
     "text": [
      "🏃 View run wistful-yak-907 at: http://127.0.0.1:5000/#/experiments/7/runs/e5e194c66da0406c89afeccf9a631551\n",
      "🧪 View experiment at: http://127.0.0.1:5000/#/experiments/7\n",
      "Modelo registrado correctamente e5e194c66da0406c89afeccf9a631551\n"
     ]
    }
   ],
   "source": [
    "import mlflow\n",
    "import mlflow.sklearn\n",
    "from sklearn.linear_model import LinearRegression\n",
    "from sklearn.datasets import make_regression\n",
    "from mlflow.models.signature import infer_signature\n",
    "import pandas as pd\n",
    "\n",
    "# Configura el URI del servidor de seguimiento de MLflow\n",
    "mlflow.set_tracking_uri(\"http://127.0.0.1:5000\")  # Reemplaza con el URI de tu servidor si es diferente\n",
    "mlflow.set_experiment(\"RegresionLineal\")  # Configura el experimento\n",
    "\n",
    "# Datos de ejemplo con nombres de características\n",
    "X, y = make_regression(n_samples=100, n_features=3, noise=0.1, random_state=42)\n",
    "X = pd.DataFrame(X, columns=[\"feature1\", \"feature2\", \"feature3\"])  # Agregar nombres de columnas\n",
    "\n",
    "# Entrena el modelo\n",
    "model = LinearRegression()\n",
    "model.fit(X, y)\n",
    "\n",
    "# Actualiza el input_example y la firma\n",
    "input_example = X[:5]\n",
    "signature = infer_signature(X, model.predict(X))\n",
    "\n",
    "# Registra el modelo en MLflow\n",
    "with mlflow.start_run() as run:\n",
    "    # Registra hiperparámetros y métricas\n",
    "    mlflow.log_param(\"fit_intercept\", model.fit_intercept)\n",
    "    mlflow.log_metric(\"score\", model.score(X, y))\n",
    "    \n",
    "    # Registra el modelo con input_example y signature\n",
    "    mlflow.sklearn.log_model(\n",
    "        sk_model=model,\n",
    "        artifact_path=\"model\",\n",
    "        registered_model_name=\"Diabetes\",  # Nombre del modelo registrado\n",
    "        input_example=input_example,\n",
    "        signature=signature\n",
    "    )\n",
    "\n",
    "print(f\"Modelo registrado correctamente {run.info.run_id}\")\n",
    "\n"
   ]
  },
  {
   "cell_type": "code",
   "execution_count": null,
   "id": "a21f2b6e-c1b8-4b25-8fdf-352f5b1feab2",
   "metadata": {},
   "outputs": [],
   "source": []
  }
 ],
 "metadata": {
  "kernelspec": {
   "display_name": "Python 3.9 (envname)",
   "language": "python",
   "name": "envname"
  },
  "language_info": {
   "codemirror_mode": {
    "name": "ipython",
    "version": 3
   },
   "file_extension": ".py",
   "mimetype": "text/x-python",
   "name": "python",
   "nbconvert_exporter": "python",
   "pygments_lexer": "ipython3",
   "version": "3.9.19"
  }
 },
 "nbformat": 4,
 "nbformat_minor": 5
}
