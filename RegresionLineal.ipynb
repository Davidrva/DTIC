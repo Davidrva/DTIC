{
 "cells": [
  {
   "cell_type": "code",
   "execution_count": 11,
   "id": "ed5024eb-ae8c-4563-85c4-58c04b6e2298",
   "metadata": {},
   "outputs": [
    {
     "name": "stdout",
     "output_type": "stream",
     "text": [
      "ID: 7, Name: RegresionLineal, State: active\n",
      "ID: 6, Name: default, State: deleted\n",
      "ID: 5, Name: Nuevo diabetes_experiment, State: deleted\n",
      "ID: 4, Name: diabetes_experiment100, State: deleted\n",
      "ID: 3, Name: diabetes_experiment, State: deleted\n",
      "ID: 2, Name: iris_classification, State: active\n",
      "ID: 1, Name: mi_experimento_local, State: deleted\n",
      "ID: 0, Name: Default, State: deleted\n"
     ]
    }
   ],
   "source": [
    "import mlflow\n",
    "\n",
    "experiments = mlflow.search_experiments(view_type=mlflow.entities.ViewType.ALL)\n",
    "for exp in experiments:\n",
    "    print(f\"ID: {exp.experiment_id}, Name: {exp.name}, State: {exp.lifecycle_stage}\")\n"
   ]
  },
  {
   "cell_type": "code",
   "execution_count": 12,
   "id": "13e57f57-0bdf-4b8f-b403-a351fe9bab7b",
   "metadata": {},
   "outputs": [],
   "source": [
    "mlflow.set_experiment(\"RegresionLineal\")  # Si quieres usar el experimento predeterminado\n",
    "mlflow.tracking.MlflowClient().restore_experiment(\"0\")\n"
   ]
  },
  {
   "cell_type": "code",
   "execution_count": 13,
   "id": "14774a8d-5399-49ed-88ca-df4627f65fed",
   "metadata": {},
   "outputs": [
    {
     "name": "stdout",
     "output_type": "stream",
     "text": [
      "Tracking URI configurado a: http://127.0.0.1:5000\n"
     ]
    }
   ],
   "source": [
    "import mlflow\n",
    "\n",
    "# Configura el URI del servidor de seguimiento (Tracking Server)\n",
    "mlflow.set_tracking_uri(\"http://127.0.0.1:5000\")\n",
    "\n",
    "# Opcional: Verifica la configuración\n",
    "print(f\"Tracking URI configurado a: {mlflow.get_tracking_uri()}\")\n"
   ]
  },
  {
   "cell_type": "code",
   "execution_count": 14,
   "id": "3c050a03-ed47-4499-aa88-1a6bbc82788a",
   "metadata": {},
   "outputs": [
    {
     "name": "stdout",
     "output_type": "stream",
     "text": [
      "🏃 View run learned-conch-375 at: http://127.0.0.1:5000/#/experiments/7/runs/4d50eea54ddb45b8b41f29c56f6a84ba\n",
      "🧪 View experiment at: http://127.0.0.1:5000/#/experiments/7\n"
     ]
    }
   ],
   "source": [
    "import mlflow\n",
    "import mlflow.sklearn\n",
    "from sklearn.linear_model import LinearRegression\n",
    "from sklearn.datasets import make_regression\n",
    "\n",
    "# Datos de ejemplo\n",
    "X, y = make_regression(n_samples=100, n_features=1, noise=0.1, random_state=42)\n",
    "\n",
    "# Entrena el modelo\n",
    "model = LinearRegression()\n",
    "model.fit(X, y)\n",
    "\n",
    "# Ejemplo de entrada\n",
    "input_example = X[:5]  # Los primeros 5 ejemplos del conjunto de datos\n",
    "\n",
    "# Registra el modelo con input_example\n",
    "with mlflow.start_run():\n",
    "    mlflow.log_param(\"fit_intercept\", model.fit_intercept)\n",
    "    mlflow.log_metric(\"score\", model.score(X, y))\n",
    "    mlflow.sklearn.log_model(model, \"model\", input_example=input_example)\n"
   ]
  },
  {
   "cell_type": "code",
   "execution_count": null,
   "id": "0ce87560-b1d7-41c6-9ee9-180da0cbbf96",
   "metadata": {},
   "outputs": [],
   "source": []
  }
 ],
 "metadata": {
  "kernelspec": {
   "display_name": "Python 3.9 (envname)",
   "language": "python",
   "name": "envname"
  },
  "language_info": {
   "codemirror_mode": {
    "name": "ipython",
    "version": 3
   },
   "file_extension": ".py",
   "mimetype": "text/x-python",
   "name": "python",
   "nbconvert_exporter": "python",
   "pygments_lexer": "ipython3",
   "version": "3.9.19"
  }
 },
 "nbformat": 4,
 "nbformat_minor": 5
}
