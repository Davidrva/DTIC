{
 "cells": [
  {
   "cell_type": "code",
   "execution_count": 2,
   "id": "4c9dd582-e339-4d86-b2f5-9f65a50c3b84",
   "metadata": {},
   "outputs": [
    {
     "name": "stderr",
     "output_type": "stream",
     "text": [
      "Registered model 'Diabetes' already exists. Creating a new version of this model...\n",
      "2025/01/16 14:03:53 INFO mlflow.store.model_registry.abstract_store: Waiting up to 300 seconds for model version to finish creation. Model name: Diabetes, version 6\n",
      "Created version '6' of model 'Diabetes'.\n"
     ]
    },
    {
     "name": "stdout",
     "output_type": "stream",
     "text": [
      "🏃 View run brawny-crane-193 at: http://127.0.0.1:5000/#/experiments/7/runs/08a2dc7650ea4291913b7ad28a855e72\n",
      "🧪 View experiment at: http://127.0.0.1:5000/#/experiments/7\n",
      "Modelo registrado correctamente 08a2dc7650ea4291913b7ad28a855e72\n"
     ]
    }
   ],
   "source": [
    "import mlflow\n",
    "import mlflow.sklearn\n",
    "from sklearn.linear_model import LinearRegression\n",
    "from sklearn.datasets import make_regression\n",
    "from mlflow.models.signature import infer_signature\n",
    "\n",
    "# Configura el URI del servidor de seguimiento de MLflow\n",
    "mlflow.set_tracking_uri(\"http://127.0.0.1:5000\")  # Reemplaza con el URI de tu servidor si es diferente\n",
    "mlflow.set_experiment(\"RegresionLineal\")  # Configura el experimento\n",
    "\n",
    "# Datos de ejemplo\n",
    "X, y = make_regression(n_samples=100, n_features=1, noise=0.1, random_state=42)\n",
    "\n",
    "# Entrena el modelo\n",
    "model = LinearRegression()\n",
    "model.fit(X, y)\n",
    "\n",
    "# Input de ejemplo para registrar con el modelo\n",
    "input_example = X[:5]\n",
    "\n",
    "# Inferir la firma del modelo\n",
    "signature = infer_signature(X, model.predict(X))\n",
    "\n",
    "# Registra el modelo en MLflow\n",
    "with mlflow.start_run() as run:\n",
    "    # Registra hiperparámetros y métricas\n",
    "    mlflow.log_param(\"fit_intercept\", model.fit_intercept)\n",
    "    mlflow.log_metric(\"score\", model.score(X, y))\n",
    "    \n",
    "    # Registra el modelo con input_example y signature\n",
    "    mlflow.sklearn.log_model(\n",
    "        sk_model=model,\n",
    "        artifact_path=\"model\",\n",
    "        registered_model_name=\"Diabetes\",  # Nombre del modelo registrado\n",
    "        input_example=input_example,\n",
    "        signature=signature\n",
    "    )\n",
    "\n",
    "print(f\"Modelo registrado correctamente {run.info.run_id}\")\n"
   ]
  },
  {
   "cell_type": "code",
   "execution_count": null,
   "id": "8b48b742-125f-4542-b447-fde22d1add38",
   "metadata": {},
   "outputs": [],
   "source": []
  },
  {
   "cell_type": "code",
   "execution_count": null,
   "id": "9fc0386a-f11d-4749-9d74-8692193ff8c5",
   "metadata": {},
   "outputs": [],
   "source": []
  }
 ],
 "metadata": {
  "kernelspec": {
   "display_name": "Python 3.9 (envname)",
   "language": "python",
   "name": "envname"
  },
  "language_info": {
   "codemirror_mode": {
    "name": "ipython",
    "version": 3
   },
   "file_extension": ".py",
   "mimetype": "text/x-python",
   "name": "python",
   "nbconvert_exporter": "python",
   "pygments_lexer": "ipython3",
   "version": "3.9.19"
  }
 },
 "nbformat": 4,
 "nbformat_minor": 5
}
