{
 "cells": [
  {
   "cell_type": "code",
   "execution_count": 2,
   "id": "2cfed4b9-f49a-479e-9fcf-6cc06879b69a",
   "metadata": {},
   "outputs": [
    {
     "name": "stderr",
     "output_type": "stream",
     "text": [
      "Registered model 'Tiempo' already exists. Creating a new version of this model...\n",
      "2025/01/29 00:04:05 INFO mlflow.store.model_registry.abstract_store: Waiting up to 300 seconds for model version to finish creation. Model name: Tiempo, version 19\n",
      "Created version '19' of model 'Tiempo'.\n",
      "Registered model 'Tiempo' already exists. Creating a new version of this model...\n",
      "2025/01/29 00:04:07 INFO mlflow.store.model_registry.abstract_store: Waiting up to 300 seconds for model version to finish creation. Model name: Tiempo, version 20\n"
     ]
    },
    {
     "name": "stdout",
     "output_type": "stream",
     "text": [
      "🏃 View run masked-shark-546 at: http://127.0.0.1:5000/#/experiments/11/runs/2a668ccca23c483988a37764e56fb975\n",
      "🧪 View experiment at: http://127.0.0.1:5000/#/experiments/11\n",
      "Modelo registrado correctamente con ID: 2a668ccca23c483988a37764e56fb975\n"
     ]
    },
    {
     "name": "stderr",
     "output_type": "stream",
     "text": [
      "Created version '20' of model 'Tiempo'.\n"
     ]
    }
   ],
   "source": [
    "import mlflow\n",
    "import mlflow.sklearn\n",
    "from sklearn.linear_model import LinearRegression\n",
    "from sklearn.model_selection import train_test_split\n",
    "from sklearn.preprocessing import StandardScaler\n",
    "from mlflow.models.signature import infer_signature\n",
    "import pandas as pd\n",
    "\n",
    "# Configura el URI del servidor de seguimiento de MLflow\n",
    "mlflow.set_tracking_uri(\"http://127.0.0.1:5000\")\n",
    "mlflow.set_experiment(\"TiempoEntrega\")\n",
    "\n",
    "# Datos de ejemplo simulados\n",
    "data = {\n",
    "    \"distancia_km\": [5, 10, 15, 20, 25],\n",
    "    \"numero_articulos\": [1, 3, 5, 2, 4],\n",
    "    \"velocidad_kmh\": [30, 40, 35, 25, 45],\n",
    "    \"tiempo_entrega_min\": [10, 20, 35, 50, 55]  # Objetivo\n",
    "}\n",
    "df = pd.DataFrame(data)\n",
    "\n",
    "# Convertir las columnas a float64 si hay valores faltantes\n",
    "X = df[[\"distancia_km\", \"numero_articulos\", \"velocidad_kmh\"]].astype(\"float64\")\n",
    "y = df[\"tiempo_entrega_min\"]\n",
    "\n",
    "# Escalar características\n",
    "scaler = StandardScaler()\n",
    "X_scaled = scaler.fit_transform(X)\n",
    "X_scaled = pd.DataFrame(X_scaled, columns=X.columns)\n",
    "\n",
    "# Dividir los datos en entrenamiento y prueba, con un ajuste en el tamaño del conjunto de prueba\n",
    "test_size = 0.2\n",
    "X_train, X_test, y_train, y_test = train_test_split(X_scaled, y, test_size=test_size, random_state=42)\n",
    "\n",
    "# Asegurarnos de que el conjunto de prueba tiene al menos 2 muestras\n",
    "if len(X_test) < 2:\n",
    "    # Ajustamos el tamaño del conjunto de prueba (si es necesario)\n",
    "    test_size = 0.5  # Cambiar a 50% si los datos son pocos\n",
    "    X_train, X_test, y_train, y_test = train_test_split(X_scaled, y, test_size=test_size, random_state=42)\n",
    "\n",
    "    # Verificamos nuevamente\n",
    "    if len(X_test) < 2:\n",
    "        raise ValueError(\"El conjunto de prueba debe contener al menos dos muestras para calcular métricas como R^2.\")\n",
    "\n",
    "# Entrenar el modelo\n",
    "model = LinearRegression()\n",
    "model.fit(X_train, y_train)\n",
    "\n",
    "# Calcular métricas de validación\n",
    "train_score = model.score(X_train, y_train)\n",
    "test_score = model.score(X_test, y_test)\n",
    "\n",
    "# Crear input_example y la firma\n",
    "input_example = X.iloc[:5]  # Usar los datos originales no escalados para input_example\n",
    "signature = infer_signature(X, model.predict(X_scaled))\n",
    "\n",
    "# Registrar el modelo en MLflow\n",
    "with mlflow.start_run() as run:\n",
    "    mlflow.log_param(\"fit_intercept\", model.fit_intercept)\n",
    "    mlflow.log_metric(\"train_score\", train_score)\n",
    "    mlflow.log_metric(\"test_score\", test_score)\n",
    "\n",
    "    # Registrar el modelo con input_example y signature\n",
    "    mlflow.sklearn.log_model(\n",
    "        sk_model=model,\n",
    "        artifact_path=\"model\",\n",
    "        registered_model_name=\"Tiempo\",\n",
    "        input_example=input_example,\n",
    "        signature=signature\n",
    "    )\n",
    "    # Apuntador a las librerias\n",
    "    mlflow.sklearn.log_model(\n",
    "    sk_model=model,\n",
    "    artifact_path=\"model\",\n",
    "    registered_model_name=\"Tiempo\",\n",
    "    input_example=input_example,\n",
    "    signature=signature,\n",
    "    conda_env=\"mlops_env.yaml\"  # Ruta al archivo conda.yaml\n",
    "    )\n",
    "\n",
    "\n",
    "print(f\"Modelo registrado correctamente con ID: {run.info.run_id}\")\n"
   ]
  },
  {
   "cell_type": "code",
   "execution_count": null,
   "id": "86ade464-1254-4038-91d4-30e33e3f5a66",
   "metadata": {},
   "outputs": [],
   "source": []
  },
  {
   "cell_type": "code",
   "execution_count": null,
   "id": "2553d28f-7ed7-4225-85ab-fa2a168a0c9d",
   "metadata": {},
   "outputs": [],
   "source": []
  }
 ],
 "metadata": {
  "kernelspec": {
   "display_name": "Python (mlops_env)",
   "language": "python",
   "name": "mlops_env"
  },
  "language_info": {
   "codemirror_mode": {
    "name": "ipython",
    "version": 3
   },
   "file_extension": ".py",
   "mimetype": "text/x-python",
   "name": "python",
   "nbconvert_exporter": "python",
   "pygments_lexer": "ipython3",
   "version": "3.9.21"
  }
 },
 "nbformat": 4,
 "nbformat_minor": 5
}
