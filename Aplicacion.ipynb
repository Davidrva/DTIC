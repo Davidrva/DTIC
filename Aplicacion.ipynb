{
 "cells": [
  {
   "cell_type": "code",
   "execution_count": null,
   "id": "f575b502-d6df-4ee0-99af-1d759aa88254",
   "metadata": {},
   "outputs": [
    {
     "name": "stdout",
     "output_type": "stream",
     "text": [
      "Cargando el modelo desde models:/Diabetes/3...\n",
      "Modelo cargado exitosamente.\n",
      " * Serving Flask app '__main__'\n",
      " * Debug mode: off\n"
     ]
    },
    {
     "name": "stderr",
     "output_type": "stream",
     "text": [
      "WARNING: This is a development server. Do not use it in a production deployment. Use a production WSGI server instead.\n",
      " * Running on http://127.0.0.1:5001\n",
      "Press CTRL+C to quit\n",
      "127.0.0.1 - - [16/Jan/2025 16:39:35] \"GET / HTTP/1.1\" 200 -\n"
     ]
    }
   ],
   "source": [
    "from flask import Flask, request, jsonify\n",
    "import mlflow\n",
    "import mlflow.sklearn\n",
    "import pandas as pd\n",
    "\n",
    "# Configuración del servidor Flask\n",
    "app = Flask(__name__)\n",
    "\n",
    "# Configura el URI del servidor MLflow\n",
    "mlflow.set_tracking_uri(\"http://127.0.0.1:5000\")  # Cambia según tu servidor MLflow\n",
    "model_name = \"Diabetes\"  # Nombre del modelo registrado\n",
    "model_version = \"3\"  # Versión del modelo en MLflow\n",
    "\n",
    "# Cargar el modelo desde el registro de MLflow\n",
    "try:\n",
    "    model_uri = f\"models:/{model_name}/{model_version}\"\n",
    "    print(f\"Cargando el modelo desde {model_uri}...\")\n",
    "    model = mlflow.sklearn.load_model(model_uri)\n",
    "    print(\"Modelo cargado exitosamente.\")\n",
    "except Exception as e:\n",
    "    print(f\"Error al cargar el modelo: {e}\")\n",
    "    model = None  # Manejar casos en los que el modelo no se carga correctamente\n",
    "\n",
    "@app.route(\"/\", methods=[\"GET\"])\n",
    "def home():\n",
    "    \"\"\"\n",
    "    Endpoint para verificar que la API está funcionando.\n",
    "    \"\"\"\n",
    "    return jsonify({\"message\": \"El servidor Flask está funcionando correctamente.\"})\n",
    "\n",
    "@app.route('/predict', methods=['POST'])\n",
    "def predict():\n",
    "    \"\"\"\n",
    "    Ruta para realizar predicciones usando el modelo registrado.\n",
    "    \"\"\"\n",
    "    try:\n",
    "        # Validar que el modelo esté cargado\n",
    "        if model is None:\n",
    "            return jsonify({'error': 'El modelo no está disponible. Revisa los logs para más información.'}), 500\n",
    "\n",
    "        # Obtener datos enviados en formato JSON\n",
    "        data = request.get_json()\n",
    "\n",
    "        # Validar que los datos están presentes y tienen el formato correcto\n",
    "        if not data:\n",
    "            return jsonify({'error': 'No se recibieron datos.'}), 400\n",
    "        if not isinstance(data, list):\n",
    "            return jsonify({'error': 'Los datos deben enviarse como una lista de instancias.'}), 400\n",
    "\n",
    "        # Convertir los datos en un DataFrame de Pandas\n",
    "        input_data = pd.DataFrame(data)\n",
    "\n",
    "        # Validar que el DataFrame no esté vacío\n",
    "        if input_data.empty:\n",
    "            return jsonify({'error': 'El conjunto de datos está vacío.'}), 400\n",
    "\n",
    "        # Realizar la predicción\n",
    "        predictions = model.predict(input_data)\n",
    "\n",
    "        # Crear una respuesta JSON con las predicciones\n",
    "        response = {\n",
    "            'predictions': predictions.tolist(),\n",
    "            'message': 'Predicciones realizadas con éxito.'\n",
    "        }\n",
    "        return jsonify(response)\n",
    "\n",
    "    except Exception as e:\n",
    "        # Manejo de errores\n",
    "        return jsonify({'error': f\"Error al realizar la predicción: {str(e)}\"}), 500\n",
    "\n",
    "if __name__ == '__main__':\n",
    "    # Ejecutar la aplicación en el puerto 5001\n",
    "    app.run(host='127.0.0.1', port=5001)\n",
    "if __name__ == '__main__':\n",
    "    app.run(host='127.0.0.1', port=5001, debug=True)\n"
   ]
  },
  {
   "cell_type": "code",
   "execution_count": null,
   "id": "3d8bee82-3bee-4e60-87b5-549564072442",
   "metadata": {},
   "outputs": [],
   "source": []
  }
 ],
 "metadata": {
  "kernelspec": {
   "display_name": "Python 3.9 (envname)",
   "language": "python",
   "name": "envname"
  },
  "language_info": {
   "codemirror_mode": {
    "name": "ipython",
    "version": 3
   },
   "file_extension": ".py",
   "mimetype": "text/x-python",
   "name": "python",
   "nbconvert_exporter": "python",
   "pygments_lexer": "ipython3",
   "version": "3.9.19"
  }
 },
 "nbformat": 4,
 "nbformat_minor": 5
}
