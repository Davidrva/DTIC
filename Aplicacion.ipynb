{
 "cells": [
  {
   "cell_type": "code",
   "execution_count": 7,
   "id": "f61b829e-585b-495e-9941-28fe9b226d7c",
   "metadata": {},
   "outputs": [
    {
     "name": "stdout",
     "output_type": "stream",
     "text": [
      "Cargando el modelo desde models:/Diabetes/18...\n",
      "Modelo cargado exitosamente.\n",
      " * Serving Flask app '__main__'\n",
      " * Debug mode: on\n"
     ]
    },
    {
     "name": "stderr",
     "output_type": "stream",
     "text": [
      "WARNING: This is a development server. Do not use it in a production deployment. Use a production WSGI server instead.\n",
      " * Running on http://127.0.0.1:5001\n",
      "Press CTRL+C to quit\n",
      "127.0.0.1 - - [20/Jan/2025 10:56:21] \"GET / HTTP/1.1\" 200 -\n",
      "127.0.0.1 - - [20/Jan/2025 10:56:33] \"OPTIONS /predict HTTP/1.1\" 200 -\n",
      "127.0.0.1 - - [20/Jan/2025 10:56:33] \"POST /predict HTTP/1.1\" 200 -\n",
      "127.0.0.1 - - [20/Jan/2025 11:54:20] \"OPTIONS /predict HTTP/1.1\" 200 -\n",
      "127.0.0.1 - - [20/Jan/2025 11:54:21] \"POST /predict HTTP/1.1\" 200 -\n",
      "127.0.0.1 - - [20/Jan/2025 11:54:21] \"OPTIONS /predict HTTP/1.1\" 200 -\n",
      "127.0.0.1 - - [20/Jan/2025 11:54:21] \"POST /predict HTTP/1.1\" 200 -\n"
     ]
    }
   ],
   "source": [
    "from flask import Flask, request, jsonify\n",
    "from flask_cors import CORS\n",
    "import mlflow\n",
    "import mlflow.sklearn\n",
    "import pandas as pd\n",
    "\n",
    "# Configuración del servidor Flask\n",
    "app = Flask(__name__)\n",
    "\n",
    "# Habilitar CORS\n",
    "CORS(app)\n",
    "\n",
    "# Configura el URI del servidor MLflow\n",
    "mlflow.set_tracking_uri(\"http://127.0.0.1:5000\")  # Cambia según tu servidor MLflow\n",
    "model_name = \"Diabetes\"  # Nombre del modelo registrado\n",
    "model_version = \"18\"  # Versión del modelo en MLflow\n",
    "\n",
    "# Cargar el modelo desde el registro de MLflow\n",
    "try:\n",
    "    model_uri = f\"models:/{model_name}/{model_version}\"\n",
    "    print(f\"Cargando el modelo desde {model_uri}...\")\n",
    "    model = mlflow.sklearn.load_model(model_uri)\n",
    "    print(\"Modelo cargado exitosamente.\")\n",
    "except Exception as e:\n",
    "    print(f\"Error al cargar el modelo: {e}\")\n",
    "    model = None  # Manejar casos en los que el modelo no se carga correctamente\n",
    "\n",
    "@app.route(\"/\", methods=[\"GET\"])\n",
    "def home():\n",
    "    return jsonify({\"message\": \"Tu servidor esta funcionando correctamente y puedes usarlo.\"})\n",
    "\n",
    "@app.route('/predict', methods=['POST'])\n",
    "def predict():\n",
    "    try:\n",
    "        # Validar que el modelo esté cargado\n",
    "        if model is None:\n",
    "            return jsonify({'error': 'Modelo no cargado.'}), 500\n",
    "\n",
    "        # Obtener datos enviados en formato JSON\n",
    "        data = request.get_json()\n",
    "\n",
    "        # Validar que los datos están presentes y tienen el formato correcto\n",
    "        if not data or not isinstance(data, list):\n",
    "            return jsonify({'error': 'Datos no válidos. Se esperaba una lista de instancias JSON.'}), 400\n",
    "\n",
    "        # Convertir los datos en un DataFrame de Pandas\n",
    "        input_data = pd.DataFrame(data)\n",
    "\n",
    "        # Validar que el DataFrame no esté vacío\n",
    "        if input_data.empty:\n",
    "            return jsonify({'error': 'El conjunto de datos está vacío.'}), 400\n",
    "\n",
    "        # Realizar la predicción\n",
    "        predictions = model.predict(input_data)\n",
    "\n",
    "        return jsonify({'predictions': predictions.tolist()})\n",
    "    except Exception as e:\n",
    "        return jsonify({'error': str(e)}), 500\n",
    "\n",
    "if __name__ == '__main__':\n",
    "    # Ejecutar la aplicación en el puerto 5001\n",
    "    app.run(host='127.0.0.1', port=5001, debug=True, use_reloader=False)\n",
    "    "
   ]
  },
  {
   "cell_type": "code",
   "execution_count": null,
   "id": "6b6bd9f9-52ea-43af-952e-b878f1abeba6",
   "metadata": {},
   "outputs": [],
   "source": []
  }
 ],
 "metadata": {
  "kernelspec": {
   "display_name": "Python 3.9 (envname)",
   "language": "python",
   "name": "envname"
  },
  "language_info": {
   "codemirror_mode": {
    "name": "ipython",
    "version": 3
   },
   "file_extension": ".py",
   "mimetype": "text/x-python",
   "name": "python",
   "nbconvert_exporter": "python",
   "pygments_lexer": "ipython3",
   "version": "3.9.19"
  }
 },
 "nbformat": 4,
 "nbformat_minor": 5
}
