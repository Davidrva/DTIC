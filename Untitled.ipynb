{
 "cells": [
  {
   "cell_type": "code",
   "execution_count": 19,
   "id": "f933bec9-0c80-49dd-830b-7c4aec3be0d4",
   "metadata": {},
   "outputs": [],
   "source": [
    "import mlflow\n",
    "\n",
    "mlflow.set_tracking_uri(\"azure://<almacenamientomlops>.blob.core.windows.net/<mlflow>\")\n"
   ]
  },
  {
   "cell_type": "code",
   "execution_count": 22,
   "id": "211bb1e9-2c9c-485a-a782-47372b80921d",
   "metadata": {},
   "outputs": [
    {
     "name": "stdout",
     "output_type": "stream",
     "text": [
      "Name: azure-identity"
     ]
    },
    {
     "name": "stderr",
     "output_type": "stream",
     "text": [
      "WARNING: Skipping C:\\Users\\dgldr\\anaconda3\\Lib\\site-packages\\graphql_relay-3.2.0.dist-info due to invalid metadata entry 'name'\n",
      "WARNING: Skipping C:\\Users\\dgldr\\anaconda3\\Lib\\site-packages\\querystring_parser-1.2.4.dist-info due to invalid metadata entry 'name'\n"
     ]
    },
    {
     "name": "stdout",
     "output_type": "stream",
     "text": [
      "\n",
      "Version: 1.17.1\n",
      "Summary: Microsoft Azure Identity Library for Python\n",
      "Home-page: https://github.com/Azure/azure-sdk-for-python/tree/main/sdk/identity/azure-identity\n",
      "Author: Microsoft Corporation\n",
      "Author-email: azpysdkhelp@microsoft.com\n",
      "License: MIT License\n",
      "Location: C:\\Users\\dgldr\\anaconda3\\Lib\\site-packages\n",
      "Requires: azure-core, cryptography, msal, msal-extensions, typing-extensions\n",
      "Required-by: \n",
      "---\n",
      "Name: azure-storage-blob\n",
      "Version: 12.21.0\n",
      "Summary: Microsoft Azure Blob Storage Client Library for Python\n",
      "Home-page: https://github.com/Azure/azure-sdk-for-python/tree/main/sdk/storage/azure-storage-blob\n",
      "Author: Microsoft Corporation\n",
      "Author-email: ascl@microsoft.com\n",
      "License: MIT License\n",
      "Location: C:\\Users\\dgldr\\anaconda3\\Lib\\site-packages\n",
      "Requires: azure-core, cryptography, isodate, typing-extensions\n",
      "Required-by: \n"
     ]
    }
   ],
   "source": [
    "!pip show azure-identity azure-storage-blob"
   ]
  },
  {
   "cell_type": "code",
   "execution_count": 24,
   "id": "1b287714-b4e1-42c2-9936-37e9c7317aa4",
   "metadata": {},
   "outputs": [
    {
     "name": "stdout",
     "output_type": "stream",
     "text": [
      "C:\\Users\\dgldr\\anaconda3\\envs\\envname\\python.exe\n"
     ]
    }
   ],
   "source": [
    "import sys\n",
    "print(sys.executable)\n"
   ]
  },
  {
   "cell_type": "code",
   "execution_count": 26,
   "id": "f88fb414-0c64-4ba6-97e6-0bd8b0790554",
   "metadata": {},
   "outputs": [],
   "source": [
    "import os\n",
    "from azure.identity import DefaultAzureCredential\n",
    "from azure.storage.blob import BlobServiceClient\n"
   ]
  },
  {
   "cell_type": "code",
   "execution_count": 27,
   "id": "d0170e52-c14d-4f96-8a9e-91aac7039448",
   "metadata": {},
   "outputs": [],
   "source": [
    "os.environ[\"AZURE_STORAGE_ACCOUNT\"] = \"<almacenamientomlops>\"\n",
    "os.environ[\"AZURE_STORAGE_KEY\"] = \"<DefaultEndpointsProtocol=https;AccountName=almacenamientomlops;AccountKey=Hck38nSe+jmsug3Db2OIJvR8Lsd3TvDQyjCML6CrJo2g+5BlH4htn5O44TbNCosOPyLeB21bJAh1+AStloR9GQ==;EndpointSuffix=core.windows.net>\""
   ]
  },
  {
   "cell_type": "code",
   "execution_count": 28,
   "id": "a44b4780-3019-4f40-9d45-21163752da1f",
   "metadata": {},
   "outputs": [
    {
     "name": "stdout",
     "output_type": "stream",
     "text": [
      "mlflow\n"
     ]
    }
   ],
   "source": [
    "blob_service_client = BlobServiceClient.from_connection_string(connection_string)\n",
    "containers = blob_service_client.list_containers()\n",
    "\n",
    "for container in containers:\n",
    "    print(container.name)\n"
   ]
  },
  {
   "cell_type": "code",
   "execution_count": 32,
   "id": "54bb83ce-238f-4d9f-9973-f90ca75fa281",
   "metadata": {},
   "outputs": [
    {
     "name": "stderr",
     "output_type": "stream",
     "text": [
      "2024/08/12 13:15:05 INFO mlflow.tracking.fluent: Experiment with name 'mi_experimento_local' does not exist. Creating a new experiment.\n",
      "2024/08/12 13:15:06 INFO mlflow.tracking._tracking_service.client: 🏃 View run funny-shad-879 at: http://localhost:5000/#/experiments/1/runs/2856bec6994049efa258a56291d1bc95.\n",
      "2024/08/12 13:15:06 INFO mlflow.tracking._tracking_service.client: 🧪 View experiment at: http://localhost:5000/#/experiments/1.\n"
     ]
    }
   ],
   "source": [
    "import mlflow\n",
    "\n",
    "# Establecer la URI de seguimiento al servidor de MLflow\n",
    "mlflow.set_tracking_uri(\"http://localhost:5000\")\n",
    "\n",
    "# Establecer el nombre del experimento\n",
    "mlflow.set_experiment(\"mi_experimento_local\")\n",
    "\n",
    "# Iniciar un run y registrar parámetros y métricas\n",
    "with mlflow.start_run():\n",
    "    mlflow.log_param(\"param1\", 5)\n",
    "    mlflow.log_metric(\"metric1\", 0.85)\n"
   ]
  },
  {
   "cell_type": "code",
   "execution_count": 33,
   "id": "52b03601-c51a-4221-bbb5-d2fcd7fb441d",
   "metadata": {},
   "outputs": [
    {
     "name": "stderr",
     "output_type": "stream",
     "text": [
      "2024/08/12 13:19:23 INFO mlflow.tracking.fluent: Experiment with name 'iris_classification' does not exist. Creating a new experiment.\n",
      "2024/08/12 13:19:30 WARNING mlflow.models.model: Input example should be provided to infer model signature if the model signature is not provided when logging the model.\n",
      "2024/08/12 13:19:30 INFO mlflow.tracking._tracking_service.client: 🏃 View run mercurial-snail-580 at: http://localhost:5000/#/experiments/2/runs/bcaf3ac74a41434eb20d7ecad8d491d2.\n",
      "2024/08/12 13:19:30 INFO mlflow.tracking._tracking_service.client: 🧪 View experiment at: http://localhost:5000/#/experiments/2.\n"
     ]
    },
    {
     "name": "stdout",
     "output_type": "stream",
     "text": [
      "Logged data and model in run: bcaf3ac74a41434eb20d7ecad8d491d2\n"
     ]
    },
    {
     "data": {
      "image/png": "[encoded data removed]",
      "text/plain": [
       "<Figure size 640x480 with 1 Axes>"
      ]
     },
     "metadata": {},
     "output_type": "display_data"
    }
   ],
   "source": [
    "import mlflow\n",
    "import mlflow.sklearn\n",
    "import pandas as pd\n",
    "import numpy as np\n",
    "from sklearn.model_selection import train_test_split\n",
    "from sklearn.linear_model import LogisticRegression\n",
    "from sklearn.metrics import accuracy_score, roc_auc_score, roc_curve\n",
    "import matplotlib.pyplot as plt\n",
    "\n",
    "# Cargar datos\n",
    "df = pd.read_csv(\"https://raw.githubusercontent.com/mwaskom/seaborn-data/master/iris.csv\")\n",
    "\n",
    "# Preprocesamiento de datos\n",
    "df['species'] = df['species'].apply(lambda x: 1 if x == 'setosa' else 0)\n",
    "X = df.drop(columns=['species'])\n",
    "y = df['species']\n",
    "\n",
    "# Dividir los datos en conjuntos de entrenamiento y prueba\n",
    "X_train, X_test, y_train, y_test = train_test_split(X, y, test_size=0.3, random_state=42)\n",
    "\n",
    "# Configurar MLflow\n",
    "mlflow.set_tracking_uri(\"http://localhost:5000\")\n",
    "mlflow.set_experiment(\"iris_classification\")\n",
    "\n",
    "with mlflow.start_run():\n",
    "    # Registrar parámetros\n",
    "    model_params = {\"solver\": \"liblinear\", \"C\": 1.0, \"max_iter\": 100}\n",
    "    mlflow.log_params(model_params)\n",
    "\n",
    "    # Entrenamiento del modelo\n",
    "    model = LogisticRegression(**model_params)\n",
    "    model.fit(X_train, y_train)\n",
    "\n",
    "    # Predicciones\n",
    "    y_pred = model.predict(X_test)\n",
    "    y_proba = model.predict_proba(X_test)[:, 1]\n",
    "\n",
    "    # Registrar métricas\n",
    "    accuracy = accuracy_score(y_test, y_pred)\n",
    "    roc_auc = roc_auc_score(y_test, y_proba)\n",
    "    mlflow.log_metric(\"accuracy\", accuracy)\n",
    "    mlflow.log_metric(\"roc_auc\", roc_auc)\n",
    "\n",
    "    # Guardar el modelo\n",
    "    mlflow.sklearn.log_model(model, \"model\")\n",
    "\n",
    "    # Generar y guardar gráfico ROC\n",
    "    fpr, tpr, _ = roc_curve(y_test, y_proba)\n",
    "    plt.figure()\n",
    "    plt.plot(fpr, tpr, label=f\"ROC curve (area = {roc_auc:.2f})\")\n",
    "    plt.xlabel(\"False Positive Rate\")\n",
    "    plt.ylabel(\"True Positive Rate\")\n",
    "    plt.title(\"ROC Curve\")\n",
    "    plt.legend(loc=\"best\")\n",
    "    plt.savefig(\"roc_curve.png\")\n",
    "    mlflow.log_artifact(\"roc_curve.png\")\n",
    "\n",
    "    print(f\"Logged data and model in run: {mlflow.active_run().info.run_id}\")\n",
    "\n"
   ]
  },
  {
   "cell_type": "code",
   "execution_count": null,
   "id": "81d8fec6-f461-4d79-bc03-819740c748c6",
   "metadata": {},
   "outputs": [],
   "source": []
  }
 ],
 "metadata": {
  "kernelspec": {
   "display_name": "Python 3.9 (envname)",
   "language": "python",
   "name": "envname"
  },
  "language_info": {
   "codemirror_mode": {
    "name": "ipython",
    "version": 3
   },
   "file_extension": ".py",
   "mimetype": "text/x-python",
   "name": "python",
   "nbconvert_exporter": "python",
   "pygments_lexer": "ipython3",
   "version": "3.9.19"
  }
 },
 "nbformat": 4,
 "nbformat_minor": 5
}
