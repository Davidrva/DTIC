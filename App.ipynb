{
 "cells": [
  {
   "cell_type": "code",
   "execution_count": null,
   "id": "3a144824-a886-4815-9ee5-ae7f1e61cb75",
   "metadata": {},
   "outputs": [],
   "source": [
    "from fastapi import FastAPI, HTTPException\n",
    "from pydantic import BaseModel\n",
    "import requests\n",
    "import os\n",
    "\n",
    "app = FastAPI()\n",
    "\n",
    "# URL del modelo servido por MLflow, configurable a través de variables de entorno\n",
    "MODEL_URL = os.getenv(\"MODEL_URL\", \"http://127.0.0.1:5001/invocations\")\n",
    "\n",
    "# Define la estructura esperada para las solicitudes\n",
    "class InputData(BaseModel):\n",
    "    instances: list\n",
    "\n",
    "@app.get(\"/\")\n",
    "def home():\n",
    "    \"\"\"\n",
    "    Endpoint de prueba para verificar que la API está en funcionamiento.\n",
    "    \"\"\"\n",
    "    return {\"message\": \"FastAPI está funcionando y listo para recibir predicciones.\"}\n",
    "\n",
    "@app.post(\"/predict\")\n",
    "def predict(data: InputData):\n",
    "    \"\"\"\n",
    "    Endpoint para realizar predicciones enviando datos al modelo servido en MLflow.\n",
    "    \"\"\"\n",
    "    try:\n",
    "        # Enviar datos al modelo desplegado en MLflow\n",
    "        response = requests.post(RegresionLineal.ipynb, json=data.dict())\n",
    "        response.raise_for_status()  # Verificar si hubo algún error en la solicitud\n",
    "        predictions = response.json()\n",
    "        return {\"predictions\": predictions}\n",
    "    except requests.exceptions.RequestException as e:\n",
    "        raise HTTPException(\n",
    "            status_code=500,\n",
    "            detail=f\"Error al conectarse con el modelo en {RegresionLineal.ipynb}: {str(e)}\",\n",
    "        )\n"
   ]
  },
  {
   "cell_type": "code",
   "execution_count": null,
   "id": "80470ee2-2b4f-4af4-9eca-85c75fb402f7",
   "metadata": {},
   "outputs": [],
   "source": []
  },
  {
   "cell_type": "code",
   "execution_count": null,
   "id": "a4cb30d0-be15-41c6-bc10-96c696e3bb97",
   "metadata": {},
   "outputs": [],
   "source": []
  }
 ],
 "metadata": {
  "kernelspec": {
   "display_name": "Python 3.9 (envname)",
   "language": "python",
   "name": "envname"
  },
  "language_info": {
   "codemirror_mode": {
    "name": "ipython",
    "version": 3
   },
   "file_extension": ".py",
   "mimetype": "text/x-python",
   "name": "python",
   "nbconvert_exporter": "python",
   "pygments_lexer": "ipython3",
   "version": "3.9.19"
  }
 },
 "nbformat": 4,
 "nbformat_minor": 5
}
